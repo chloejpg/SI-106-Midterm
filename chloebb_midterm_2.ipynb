{
 "cells": [
  {
   "cell_type": "markdown",
   "metadata": {},
   "source": [
    "# SI 106 Winter 2020\n",
    "# Brown Chloe Bouquet - Midterm 2\n",
    "\n",
    "This exam is for Brown Chloe Bouquet (chloebb). If that is not you, you have opened the wrong file. This exam is worth 125 points. There are 12 problems.\n",
    "\n",
    "Please be sure you are on [Slack](https://si106.slack.com/) and [Zoom](https://zoom.us/j/256579011) in case there are any announcements during the exam.\n",
    "\n",
    "If you have technical difficulties during the exam or need clarification on a question, please contact Professor Oney on Slack immediately.\n",
    "\n",
    "## Notes:\n",
    "- The answers towards the beginning of the exam should be shorter and easier. The answers toward the end will be more difficult.\n",
    "- Try to avoid getting fixated on one problem. Try to attempt every problem.\n",
    "- You may receive partial credit for answers that are partially complete.\n",
    "- Passing all of the tests is not a guarantee that your solution is correct.\n",
    "- **Uploading your exam past the due time is equivalent to not turning it in at all.**\n",
    "---"
   ]
  },
  {
   "cell_type": "markdown",
   "metadata": {},
   "source": [
    "# Problem 1\n",
    "Define a function named `wordCount` that accepts one argument (a string) and returns the number of words in that string. *(5 points)*"
   ]
  },
  {
   "cell_type": "code",
   "execution_count": 136,
   "metadata": {},
   "outputs": [],
   "source": [
    "def wordCount(s):\n",
    "    return len(s.split())"
   ]
  },
  {
   "cell_type": "code",
   "execution_count": 137,
   "metadata": {},
   "outputs": [],
   "source": [
    "assert wordCount(\"this is a sentence\") == 4\n",
    "assert wordCount(\"hello world\") == 2\n",
    "assert wordCount(\"hello\") == 1\n",
    "assert wordCount(\"\") == 0"
   ]
  },
  {
   "cell_type": "markdown",
   "metadata": {},
   "source": [
    "# Problem 2\n",
    "The function `mul` is supposed to take two arguments (one optional, with a default value of `1`) and multiply their values together but it contains an error. Fix the error in the following code. It is OK to change the names of the arguments. *(5 points)*\n",
    "\n",
    "```python\n",
    "def mul(a=1, b):\n",
    "    return a * b\n",
    "```"
   ]
  },
  {
   "cell_type": "code",
   "execution_count": 138,
   "metadata": {},
   "outputs": [],
   "source": [
    "# Fix the definition of add below.\n",
    "def mul(b,a=1):\n",
    "    return a * b"
   ]
  },
  {
   "cell_type": "code",
   "execution_count": 139,
   "metadata": {},
   "outputs": [],
   "source": [
    "assert mul(2,3) == 6\n",
    "assert mul(5) == 5"
   ]
  },
  {
   "cell_type": "markdown",
   "metadata": {},
   "source": [
    "# Problem 3\n",
    "Write **one line of code** that assigns variables `x`, `y`, and `z` to `1`, `2`, and `3` respectively. Solutions longer than one line will receive no credit. *(5 points)*"
   ]
  },
  {
   "cell_type": "code",
   "execution_count": 140,
   "metadata": {},
   "outputs": [],
   "source": [
    "x, y, z = 1, 2, 3"
   ]
  },
  {
   "cell_type": "code",
   "execution_count": 141,
   "metadata": {},
   "outputs": [],
   "source": [
    "assert x == 1\n",
    "assert y == 2\n",
    "assert z == 3"
   ]
  },
  {
   "cell_type": "markdown",
   "metadata": {},
   "source": [
    "# Problem 4\n",
    "Write code to create a dictionary named `myDict2` with two key-value pairs:\n",
    "- `'key1'` should be assigned to `'value1'`\n",
    "- `5` should be assigned to `True`\n",
    "\n",
    "*(5 points)*"
   ]
  },
  {
   "cell_type": "code",
   "execution_count": 142,
   "metadata": {},
   "outputs": [],
   "source": [
    "myDict2 = {}\n",
    "myDict2['key1'] = 'value1'\n",
    "myDict2[5] = True"
   ]
  },
  {
   "cell_type": "code",
   "execution_count": 143,
   "metadata": {},
   "outputs": [],
   "source": [
    "assert myDict2['key1'] == 'value1'\n",
    "assert myDict2[5] == True\n",
    "assert list(myDict2.keys()) == [5, 'key1'] or list(myDict2.keys()) == ['key1', 5]"
   ]
  },
  {
   "cell_type": "markdown",
   "metadata": {},
   "source": [
    "# Problem 5\n",
    "Define a function named `plusOne` that accepts one argument (an integer) and returns that argument's value plus one. *(5 points)*"
   ]
  },
  {
   "cell_type": "code",
   "execution_count": 144,
   "metadata": {},
   "outputs": [],
   "source": [
    "def plusOne(n):\n",
    "    return n + 1"
   ]
  },
  {
   "cell_type": "code",
   "execution_count": 145,
   "metadata": {},
   "outputs": [],
   "source": [
    "assert plusOne(1) == 2\n",
    "assert plusOne(2) == 3\n",
    "assert plusOne(10) == 11"
   ]
  },
  {
   "cell_type": "markdown",
   "metadata": {},
   "source": [
    "# Problem 6\n",
    "The variable `shows` contains a list of dictionaries. Every item in `shows` is a dictionary that contains information about a different TV show. Write code that references `shows` and creates one dictionary, called `showRatings` where the keys are TV show names and the values are the ratings for a given show.\n",
    "\n",
    "For example, if `shows` has the value:\n",
    "\n",
    "```python\n",
    "shows = [{'name': 'Lost', 'seasons': 6, 'rating': 8.3}, {'name': 'Cheers', 'seasons': 11, 'rating': 7.8}, {'name': 'In Living Color', 'seaons': 5, 'rating': 8.1}, {'name': 'Breaking Bad', 'seasons': 5, 'rating': 9.5}]\n",
    "```\n",
    "\n",
    "then `showRatings` should be:\n",
    "\n",
    "```python\n",
    "{'Lost': 8.3, 'Cheers': 7.8, 'In Living Color': 8.1, 'Breaking Bad': 9.5}\n",
    "```\n",
    "\n",
    "*(10 points)*"
   ]
  },
  {
   "cell_type": "code",
   "execution_count": 152,
   "metadata": {},
   "outputs": [],
   "source": [
    "shows = [{'name': 'Lost', 'seasons': 6, 'rating': 8.3}, {'name': 'Cheers', 'seasons': 11, 'rating': 7.8}, {'name': 'In Living Color', 'seaons': 5, 'rating': 8.1}, {'name': 'Breaking Bad', 'seasons': 5, 'rating': 9.5}]\n",
    "\n",
    "showRatings = {}\n",
    "for i in shows:\n",
    "    showRatings[i['name']] = i['rating']"
   ]
  },
  {
   "cell_type": "code",
   "execution_count": 153,
   "metadata": {},
   "outputs": [],
   "source": [
    "assert showRatings == {'Lost': 8.3, 'Cheers': 7.8, 'In Living Color': 8.1, 'Breaking Bad': 9.5}"
   ]
  },
  {
   "cell_type": "markdown",
   "metadata": {},
   "source": [
    "# Problem 7\n",
    "Define a function `createPhonebook` that accepts one argument--a list of tuples. The first item in every tuple is a first name. The second item is a last name. The third item is a phone number for that person. `createPhonebook` should return a dictionary where the keys are **full names** (first name then last name) and the values are phone numbers.\n",
    "\n",
    "For example:\n",
    "\n",
    "```python\n",
    "createPhonebook([  ('Jay', 'Gatsby', '5551212'),\n",
    "                    ('Daisy', 'Buchanan', '4441234'),\n",
    "                    ('Nick', 'Carraway', '4568309'),\n",
    "                    ('Myrtle', 'Wilson', '1456871') ])\n",
    "```\n",
    "\n",
    "should return:\n",
    "\n",
    "```python\n",
    "{\n",
    "    'Jay Gatsby': '5551212',\n",
    "    'Daisy Buchanan': '4441234',\n",
    "    'Nick Carraway': '4568309',\n",
    "    'Myrtle Wilson': '1456871'\n",
    "}\n",
    "```\n",
    "\n",
    "*(10 points)*"
   ]
  },
  {
   "cell_type": "code",
   "execution_count": 154,
   "metadata": {},
   "outputs": [],
   "source": [
    "def createPhonebook(L):\n",
    "    first = []\n",
    "    last = []\n",
    "    numbers = []\n",
    "    for x in L:\n",
    "        first.append(x[0])\n",
    "        last.append(x[1])\n",
    "        numbers.append(x[2])\n",
    "    diction = {}\n",
    "    for i in range(len(L)):\n",
    "        key = (first[i] + ' ' + last[i])\n",
    "        diction[key] = numbers[i]\n",
    "    return diction"
   ]
  },
  {
   "cell_type": "code",
   "execution_count": 155,
   "metadata": {},
   "outputs": [],
   "source": [
    "assert createPhonebook([  ('Jay', 'Gatsby', '5551212'), ('Daisy', 'Buchanan', '4441234'),\n",
    "                    ('Nick', 'Carraway', '4568309'), ('Myrtle', 'Wilson', '1456871') ]) == {\n",
    "                                                                            'Jay Gatsby': '5551212',\n",
    "                                                                            'Daisy Buchanan': '4441234',\n",
    "                                                                            'Nick Carraway': '4568309',\n",
    "                                                                            'Myrtle Wilson': '1456871'\n",
    "                                                                        }\n",
    "assert createPhonebook([('First', 'Last', '4444444')]) == {'First Last': '4444444'}\n",
    "assert createPhonebook([]) == {}"
   ]
  },
  {
   "cell_type": "markdown",
   "metadata": {},
   "source": [
    "# Problem 8\n",
    "A palindrome is a number (or word) that reads the same backward as the forward (like `101`). Define a function `biggestPalindrome` that accepts one argument (a list of numbers) and the return the largest number that is a palindrome. Return `False` if the list does not contain any palindromes. We provided a utility function `isPalindrome` that you can use to check if a given number is a palindrome.\n",
    "\n",
    "```python\n",
    "def isPalindrome(num):\n",
    "    return str(num) == str(num)[::-1] # [::-1] reverses a string\n",
    "```\n",
    "\n",
    "*(10 points)*"
   ]
  },
  {
   "cell_type": "code",
   "execution_count": 156,
   "metadata": {},
   "outputs": [],
   "source": [
    "def isPalindrome(num):\n",
    "    return str(num) == str(num)[::-1] # [::-1] reverses a string\n",
    "\n",
    "def biggestPalindrome(L):\n",
    "    biggest = 0\n",
    "    for i in L:\n",
    "        if isPalindrome(i) is True:\n",
    "            if i > biggest:\n",
    "                biggest = i\n",
    "    return biggest"
   ]
  },
  {
   "cell_type": "code",
   "execution_count": 157,
   "metadata": {},
   "outputs": [],
   "source": [
    "assert biggestPalindrome([10, 20, 15, 45, 101]) == 101\n",
    "assert biggestPalindrome([5, 4, 3, 5, 55, 991, 44]) == 55\n",
    "assert biggestPalindrome([-5, 404, 10, 2002, 4]) == 2002\n",
    "assert biggestPalindrome([10, 20, 30]) == False\n",
    "assert biggestPalindrome([]) == False"
   ]
  },
  {
   "cell_type": "markdown",
   "metadata": {},
   "source": [
    "# Problem 9\n",
    "`personInfo` is a nested dictionary where the keys are peoples' names and the values are dictionaries with information about that person. Write code to sort the peoples' names according to their age (from high to low).  Assign `ageRankings` to the sorted list. *(10 points)*\n",
    "\n",
    "```python\n",
    "personInfo = {'Jim Harbaugh': {'age': 56, 'sport': 'Football'},\n",
    "               'Kim Barnes Arico': {'age': 49, 'sport': 'Basketball'},\n",
    "               'Juwan Howard': {'age': 47, 'sport': 'Basketball'},\n",
    "               'Carol Hutchins': {'age': 62, 'sport': 'Softball'},\n",
    "               'Erik Bakich': {'age': 42, 'sport': 'Baseball'}}\n",
    "```"
   ]
  },
  {
   "cell_type": "code",
   "execution_count": 158,
   "metadata": {},
   "outputs": [],
   "source": [
    "personInfo = {'Jim Harbaugh': {'age': 56, 'sport': 'Football'},\n",
    "               'Kim Barnes Arico': {'age': 49, 'sport': 'Basketball'},\n",
    "               'Juwan Howard': {'age': 47, 'sport': 'Basketball'},\n",
    "               'Carol Hutchins': {'age': 62, 'sport': 'Softball'},\n",
    "               'Erik Bakich': {'age': 42, 'sport': 'Baseball'}}\n",
    "\n",
    "ageRankings = sorted(personInfo, key = lambda x: personInfo[x]['age'], reverse = True)"
   ]
  },
  {
   "cell_type": "code",
   "execution_count": 159,
   "metadata": {},
   "outputs": [],
   "source": [
    "assert ageRankings == ['Carol Hutchins', 'Jim Harbaugh', 'Kim Barnes Arico', 'Juwan Howard', 'Erik Bakich']"
   ]
  },
  {
   "cell_type": "markdown",
   "metadata": {},
   "source": [
    "# Problem 10\n",
    "The file `countries.json` contains information about various countries. It is JSON-formatted. For this problem, you will need to explore and understand the structure of `countries.json`. Define a function `getCountryCapital` that accepts one argument (the name of a country, such as `'Angola'` or `'Zimbabwe'`) and returns the name of the capital of that country. If the country name is not valid, `getCountryCapital` should return `False` *(20 points)*"
   ]
  },
  {
   "cell_type": "code",
   "execution_count": 160,
   "metadata": {},
   "outputs": [],
   "source": [
    "import json\n",
    "json_file = open('countries.json', 'r')\n",
    "json_str = json_file.read()\n",
    "j = json.loads(json_str)\n",
    "\n",
    "\n",
    "def getCountryCapital(name):\n",
    "    for i in j:\n",
    "        if i['name'] == name:\n",
    "            return i['capital']\n",
    "    if name not in j:\n",
    "        return False\n"
   ]
  },
  {
   "cell_type": "code",
   "execution_count": 161,
   "metadata": {},
   "outputs": [],
   "source": [
    "assert getCountryCapital('United States of America') == 'Washington, D.C.'\n",
    "assert getCountryCapital('Argentina') == 'Buenos Aires'\n",
    "assert getCountryCapital('Nigeria') == 'Abuja'\n",
    "assert getCountryCapital('France') == 'Paris'\n",
    "assert getCountryCapital('New Zealand') == 'Wellington'\n",
    "assert getCountryCapital('China') == 'Beijing'\n",
    "assert getCountryCapital('xyz') == False"
   ]
  },
  {
   "cell_type": "markdown",
   "metadata": {},
   "source": [
    "# Problem 11 (part 1)\n",
    "\n",
    "The file `aa_weather.csv` contains CSV-formatted information about the weather in Ann Arbor by year. Every row contains a year, an amount of rain (inches) and an amount of snow (inches) for that year. Define a function `getRain` that accepts one argument---an **integer** representing a year. `getRain` should read `aa_weather.csv` and return the amount of rainfall (as a **float**) for that year. If that year is not in the table, `getRain` should return `None`. *(15 points)*"
   ]
  },
  {
   "cell_type": "code",
   "execution_count": 164,
   "metadata": {},
   "outputs": [],
   "source": [
    "def getRain(year):\n",
    "    fileconnection = open('aa_weather.csv', 'r')\n",
    "    for lines in fileconnection.readlines()[1:]:\n",
    "        newlines = lines.split(',')\n",
    "        if int(newlines[0]) == year:\n",
    "            amount_of_rainfall = float(newlines[1])\n",
    "            return amount_of_rainfall\n",
    "    if year not in fileconnection:\n",
    "        return None\n"
   ]
  },
  {
   "cell_type": "markdown",
   "metadata": {},
   "source": [
    "# Problem 11 (part 2)\n",
    "Write at least two tests (using `assert` statements) of your `getRain` function *(10 points)*"
   ]
  },
  {
   "cell_type": "code",
   "execution_count": 165,
   "metadata": {},
   "outputs": [],
   "source": [
    "assert getRain(1997) == 39.79\n",
    "assert getRain(1) == None"
   ]
  },
  {
   "cell_type": "markdown",
   "metadata": {},
   "source": [
    "# Problem 12\n",
    "Write code to define a function called `shortestWordWithout`, which accepts two arguments:\n",
    "- `sentence`, a string\n",
    "- `letter`, a one-character string\n",
    "\n",
    "`shortestWordWithout` should return the **shortest** word in `sentence` that does **not** contain `letter`. If every word in `sentence` contains `letter`, then `shortestWordWithout` should return `False` (a boolean). *(15 points)*"
   ]
  },
  {
   "cell_type": "code",
   "execution_count": 166,
   "metadata": {},
   "outputs": [],
   "source": [
    "def shortestWordWithout(sentence, letter):\n",
    "    words = sentence.split()\n",
    "    newlst = []\n",
    "    \n",
    "    for word in words:\n",
    "        if letter not in word:\n",
    "            newlst.append(word)\n",
    "            \n",
    "    if newlst == []:\n",
    "        return False\n",
    "            \n",
    "    length = len(newlst[0])\n",
    "    shortest = newlst[0] \n",
    "    \n",
    "    for item in newlst:\n",
    "        if len(item) < length:\n",
    "            shortest = item\n",
    "            \n",
    "    \n",
    "    return shortest\n"
   ]
  },
  {
   "cell_type": "code",
   "execution_count": 167,
   "metadata": {},
   "outputs": [],
   "source": [
    "assert shortestWordWithout('this is a sentence', 'e') == 'a'\n",
    "assert shortestWordWithout('this is a sentence', 'a') == 'is'\n",
    "assert shortestWordWithout('when we won', 'w') == False\n",
    "assert shortestWordWithout('a xyz defg', 'a') == 'xyz'"
   ]
  },
  {
   "cell_type": "markdown",
   "metadata": {},
   "source": [
    "---\n",
    "\n",
    "When you are done, turn in your exam through Canvas. Upload the .ipynb file:\n",
    "\n",
    "File -> Download As -> Notebook (.ipynb)\n",
    "\n",
    "Upload your .ipynb file to Canvas (under the [Midterm Exam 2 assignment](https://umich.instructure.com/courses/340269/assignments/928133))"
   ]
  },
  {
   "cell_type": "code",
   "execution_count": null,
   "metadata": {},
   "outputs": [],
   "source": []
  }
 ],
 "metadata": {
  "kernelspec": {
   "display_name": "Python 3",
   "language": "python",
   "name": "python3"
  },
  "language_info": {
   "codemirror_mode": {
    "name": "ipython",
    "version": 3
   },
   "file_extension": ".py",
   "mimetype": "text/x-python",
   "name": "python",
   "nbconvert_exporter": "python",
   "pygments_lexer": "ipython3",
   "version": "3.6.3"
  }
 },
 "nbformat": 4,
 "nbformat_minor": 4
}
